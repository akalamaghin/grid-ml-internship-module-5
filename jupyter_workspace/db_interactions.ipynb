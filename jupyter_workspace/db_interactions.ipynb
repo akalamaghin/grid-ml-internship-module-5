{
 "cells": [
  {
   "cell_type": "markdown",
   "id": "081b4943-91c8-4001-b18b-be52f7c870f8",
   "metadata": {},
   "source": [
    "### Imports"
   ]
  },
  {
   "cell_type": "code",
   "execution_count": null,
   "id": "c0da85ae-6ba5-47ae-ae5c-361335918a39",
   "metadata": {},
   "outputs": [],
   "source": [
    "import psycopg2\n",
    "import pandas as pd\n",
    "import os\n",
    "import warnings"
   ]
  },
  {
   "cell_type": "markdown",
   "id": "3291569f-dcab-49a3-9ec5-aabd678b4775",
   "metadata": {},
   "source": [
    "### Not doing anything complex to be bothered with SQLAlchemy"
   ]
  },
  {
   "cell_type": "code",
   "execution_count": 2,
   "id": "9ff3a4ab-1abc-4778-bcc4-9a124b244fd2",
   "metadata": {},
   "outputs": [],
   "source": [
    "warnings.filterwarnings(\"ignore\", message=\"pandas only supports SQLAlchemy\")"
   ]
  },
  {
   "cell_type": "markdown",
   "id": "306fd74a-e7de-4d1c-8f91-3a89aeb3d193",
   "metadata": {},
   "source": [
    "### Connection parameters"
   ]
  },
  {
   "cell_type": "code",
   "execution_count": 3,
   "id": "d651f77f-9343-48e8-8311-55a0918d6207",
   "metadata": {},
   "outputs": [],
   "source": [
    "DB_HOST = os.getenv('DB_HOST')\n",
    "DB_PORT = os.getenv('DB_PORT')\n",
    "DB_NAME = os.getenv('DB_NAME')\n",
    "DB_USER = os.getenv('DB_USER')\n",
    "DB_PASS = os.getenv('DB_PASS')"
   ]
  },
  {
   "cell_type": "markdown",
   "id": "1a1c8847-b2f4-46de-be63-4685ab0d59ad",
   "metadata": {},
   "source": [
    "### Connect to the db"
   ]
  },
  {
   "cell_type": "code",
   "execution_count": 4,
   "id": "c7038a15-b9d0-4f3d-9719-b311170603ba",
   "metadata": {},
   "outputs": [],
   "source": [
    "conn = psycopg2.connect(\n",
    "    host=DB_HOST,\n",
    "    port=DB_PORT,\n",
    "    user=DB_USER,\n",
    "    password=DB_PASS,\n",
    "    dbname=DB_NAME\n",
    ")\n",
    "\n",
    "cur = conn.cursor()"
   ]
  },
  {
   "cell_type": "markdown",
   "id": "839b177a-50c3-4779-94ef-10361bab09f8",
   "metadata": {},
   "source": [
    "### Create the requested tables"
   ]
  },
  {
   "cell_type": "code",
   "execution_count": 5,
   "id": "3d5c97e9-6b2d-4ab4-93f7-87b49c774f8a",
   "metadata": {},
   "outputs": [],
   "source": [
    "cur.execute(\n",
    "    \"\"\"\n",
    "    CREATE TABLE departments (\n",
    "        id SERIAL PRIMARY KEY,\n",
    "        name VARCHAR(50) NOT NULL\n",
    "    )\n",
    "    \"\"\"\n",
    ")\n",
    "\n",
    "cur.execute(\n",
    "    \"\"\"\n",
    "    CREATE TABLE employees (\n",
    "        id SERIAL PRIMARY KEY,\n",
    "        name VARCHAR(50) NOT NULL,\n",
    "        department_id INT REFERENCES departments(id)\n",
    "    )\n",
    "    \"\"\"\n",
    ")\n",
    "\n",
    "conn.commit()"
   ]
  },
  {
   "cell_type": "markdown",
   "id": "4f526758-9d5a-43f3-8877-65019db1507a",
   "metadata": {},
   "source": [
    "### Check if sample data is already there"
   ]
  },
  {
   "cell_type": "code",
   "execution_count": 6,
   "id": "0e9d0363-158d-4acd-8d64-3ded504ef2d5",
   "metadata": {},
   "outputs": [
    {
     "data": {
      "text/html": [
       "<div>\n",
       "<style scoped>\n",
       "    .dataframe tbody tr th:only-of-type {\n",
       "        vertical-align: middle;\n",
       "    }\n",
       "\n",
       "    .dataframe tbody tr th {\n",
       "        vertical-align: top;\n",
       "    }\n",
       "\n",
       "    .dataframe thead th {\n",
       "        text-align: right;\n",
       "    }\n",
       "</style>\n",
       "<table border=\"1\" class=\"dataframe\">\n",
       "  <thead>\n",
       "    <tr style=\"text-align: right;\">\n",
       "      <th></th>\n",
       "      <th>id</th>\n",
       "      <th>name</th>\n",
       "      <th>department</th>\n",
       "    </tr>\n",
       "  </thead>\n",
       "  <tbody>\n",
       "  </tbody>\n",
       "</table>\n",
       "</div>"
      ],
      "text/plain": [
       "Empty DataFrame\n",
       "Columns: [id, name, department]\n",
       "Index: []"
      ]
     },
     "execution_count": 6,
     "metadata": {},
     "output_type": "execute_result"
    }
   ],
   "source": [
    "pd.read_sql(\n",
    "    \"\"\"\n",
    "    SELECT e.id, e.name, d.name as department\n",
    "    FROM employees e\n",
    "    JOIN departments d ON e.department_id = d.id\n",
    "    \"\"\",\n",
    "    conn\n",
    ")"
   ]
  },
  {
   "cell_type": "markdown",
   "id": "44a581da-433e-41ab-865e-4f4b79127bf7",
   "metadata": {},
   "source": [
    "### Insert sample data into the _departments_"
   ]
  },
  {
   "cell_type": "code",
   "execution_count": 7,
   "id": "96ee3ead-62a1-4a8c-8243-62cef9cb7b06",
   "metadata": {},
   "outputs": [],
   "source": [
    "cur.execute(\n",
    "    \"INSERT INTO departments (name) VALUES (%s), (%s), (%s) RETURNING id\", \n",
    "    (\"HR\", \"IT\", \"Finance\")\n",
    ")\n",
    "department_ids = [row[0] for row in cur.fetchall()]"
   ]
  },
  {
   "cell_type": "markdown",
   "id": "17b1f13d-158f-45d9-8cc6-aff6831feb24",
   "metadata": {},
   "source": [
    "### Insert sample data into the _employees_"
   ]
  },
  {
   "cell_type": "code",
   "execution_count": 8,
   "id": "dd68d8c3-c80f-4b45-99b3-f214c5d758fb",
   "metadata": {},
   "outputs": [],
   "source": [
    "cur.execute(\n",
    "    \"\"\"\n",
    "    INSERT INTO employees (name, department_id) VALUES\n",
    "    (%s, %s), (%s, %s), (%s, %s), (%s, %s)\n",
    "    \"\"\",\n",
    "    (\n",
    "        \"Alice\", department_ids[0],\n",
    "        \"Bob\", department_ids[1],\n",
    "        \"Charlie\", department_ids[1],\n",
    "        \"Diana\", department_ids[2]\n",
    "    )\n",
    ")\n",
    "\n",
    "conn.commit()"
   ]
  },
  {
   "cell_type": "markdown",
   "id": "800513f1-6449-4217-b265-0e4a5da2ab64",
   "metadata": {},
   "source": [
    "### Query the inserted sample data"
   ]
  },
  {
   "cell_type": "code",
   "execution_count": 9,
   "id": "5e805255-986e-48f1-a9e5-01a258c4c8bf",
   "metadata": {},
   "outputs": [
    {
     "data": {
      "text/html": [
       "<div>\n",
       "<style scoped>\n",
       "    .dataframe tbody tr th:only-of-type {\n",
       "        vertical-align: middle;\n",
       "    }\n",
       "\n",
       "    .dataframe tbody tr th {\n",
       "        vertical-align: top;\n",
       "    }\n",
       "\n",
       "    .dataframe thead th {\n",
       "        text-align: right;\n",
       "    }\n",
       "</style>\n",
       "<table border=\"1\" class=\"dataframe\">\n",
       "  <thead>\n",
       "    <tr style=\"text-align: right;\">\n",
       "      <th></th>\n",
       "      <th>id</th>\n",
       "      <th>name</th>\n",
       "      <th>department</th>\n",
       "    </tr>\n",
       "  </thead>\n",
       "  <tbody>\n",
       "    <tr>\n",
       "      <th>0</th>\n",
       "      <td>1</td>\n",
       "      <td>Alice</td>\n",
       "      <td>HR</td>\n",
       "    </tr>\n",
       "    <tr>\n",
       "      <th>1</th>\n",
       "      <td>2</td>\n",
       "      <td>Bob</td>\n",
       "      <td>IT</td>\n",
       "    </tr>\n",
       "    <tr>\n",
       "      <th>2</th>\n",
       "      <td>3</td>\n",
       "      <td>Charlie</td>\n",
       "      <td>IT</td>\n",
       "    </tr>\n",
       "    <tr>\n",
       "      <th>3</th>\n",
       "      <td>4</td>\n",
       "      <td>Diana</td>\n",
       "      <td>Finance</td>\n",
       "    </tr>\n",
       "  </tbody>\n",
       "</table>\n",
       "</div>"
      ],
      "text/plain": [
       "   id     name department\n",
       "0   1    Alice         HR\n",
       "1   2      Bob         IT\n",
       "2   3  Charlie         IT\n",
       "3   4    Diana    Finance"
      ]
     },
     "execution_count": 9,
     "metadata": {},
     "output_type": "execute_result"
    }
   ],
   "source": [
    "pd.read_sql(\n",
    "    \"\"\"\n",
    "    SELECT e.id, e.name, d.name as department\n",
    "    FROM employees e\n",
    "    JOIN departments d ON e.department_id = d.id\n",
    "    \"\"\",\n",
    "    conn\n",
    ")"
   ]
  },
  {
   "cell_type": "markdown",
   "id": "becc8388-479c-47d7-873e-b15914f47d5f",
   "metadata": {},
   "source": [
    "### Cleanup"
   ]
  },
  {
   "cell_type": "code",
   "execution_count": 10,
   "id": "29bb18da-09e0-4928-a11f-4f6bb21834bd",
   "metadata": {},
   "outputs": [],
   "source": [
    "cur.close()\n",
    "conn.close()"
   ]
  }
 ],
 "metadata": {
  "kernelspec": {
   "display_name": "Python 3 (ipykernel)",
   "language": "python",
   "name": "python3"
  },
  "language_info": {
   "codemirror_mode": {
    "name": "ipython",
    "version": 3
   },
   "file_extension": ".py",
   "mimetype": "text/x-python",
   "name": "python",
   "nbconvert_exporter": "python",
   "pygments_lexer": "ipython3",
   "version": "3.11.13"
  }
 },
 "nbformat": 4,
 "nbformat_minor": 5
}
