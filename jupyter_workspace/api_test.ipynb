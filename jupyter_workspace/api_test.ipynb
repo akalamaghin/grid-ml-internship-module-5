{
 "cells": [
  {
   "cell_type": "markdown",
   "id": "4e65661e-13d3-40e7-b748-b160b34df055",
   "metadata": {},
   "source": [
    "### Imports"
   ]
  },
  {
   "cell_type": "code",
   "execution_count": 1,
   "id": "28ade8f9-775b-4e80-a510-6915d572572b",
   "metadata": {},
   "outputs": [],
   "source": [
    "import requests\n",
    "import pandas as pd\n",
    "import random\n",
    "from sklearn.datasets import load_iris\n",
    "from sklearn.utils import Bunch\n",
    "from typing import cast"
   ]
  },
  {
   "cell_type": "markdown",
   "id": "8ddd002f-2996-4d82-99fa-92dad79698a7",
   "metadata": {},
   "source": [
    "### Load the iris dataset"
   ]
  },
  {
   "cell_type": "code",
   "execution_count": 2,
   "id": "a6f1d2c6-ee5b-4405-b5b6-b85469e5cdbd",
   "metadata": {},
   "outputs": [],
   "source": [
    "iris: Bunch = cast(Bunch, load_iris(as_frame=True))\n",
    "X: pd.DataFrame = iris.data\n",
    "y: pd.Series = iris.target\n",
    "target_names = iris.target_names"
   ]
  },
  {
   "cell_type": "markdown",
   "id": "e88e383f-6658-4e82-aeee-2d954cb1b0cb",
   "metadata": {},
   "source": [
    "### Pick a random sample"
   ]
  },
  {
   "cell_type": "code",
   "execution_count": 3,
   "id": "9281a866-4d02-4807-afe1-aca291456164",
   "metadata": {},
   "outputs": [],
   "source": [
    "idx = random.randint(0, len(X) - 1)\n",
    "sample = X.iloc[idx]\n",
    "true_label = target_names[y.iloc[idx]]"
   ]
  },
  {
   "cell_type": "markdown",
   "id": "fce0e9c0-76ce-4ad4-869b-1b1d6b2e4af2",
   "metadata": {},
   "source": [
    "### Prepare JSON payload"
   ]
  },
  {
   "cell_type": "code",
   "execution_count": null,
   "id": "24f58f6d-db8e-4cb7-9cb7-6d4afb7ef085",
   "metadata": {},
   "outputs": [],
   "source": [
    "payload = sample.to_dict()\n",
    "\n",
    "print(f\"Sending sample #{idx}:\")\n",
    "print(payload)"
   ]
  },
  {
   "cell_type": "markdown",
   "id": "abef35ce-3668-4695-b96b-f0aa48e21ddd",
   "metadata": {},
   "source": [
    "### POST request"
   ]
  },
  {
   "cell_type": "code",
   "execution_count": null,
   "id": "4f6e51a1-f294-4b8c-9f97-ef68c3bd3290",
   "metadata": {},
   "outputs": [],
   "source": [
    "API_URL = \"http://iris-api:8000/predict\"\n",
    "\n",
    "response = requests.post(API_URL, json=payload)\n",
    "\n",
    "if response.status_code == 200:\n",
    "    resp_json = response.json()\n",
    "    print(\"\\nAPI Response:\")\n",
    "    print(resp_json)\n",
    "    print(f\"\\nTrue label: {true_label}\")\n",
    "else:\n",
    "    print(f\"Request failed: {response.status_code}\\n{response.text}\")"
   ]
  }
 ],
 "metadata": {
  "kernelspec": {
   "display_name": "Python 3 (ipykernel)",
   "language": "python",
   "name": "python3"
  },
  "language_info": {
   "codemirror_mode": {
    "name": "ipython",
    "version": 3
   },
   "file_extension": ".py",
   "mimetype": "text/x-python",
   "name": "python",
   "nbconvert_exporter": "python",
   "pygments_lexer": "ipython3",
   "version": "3.11.13"
  }
 },
 "nbformat": 4,
 "nbformat_minor": 5
}
